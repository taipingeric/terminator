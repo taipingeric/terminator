{
 "cells": [
  {
   "cell_type": "code",
   "execution_count": 1,
   "metadata": {},
   "outputs": [
    {
     "name": "stdout",
     "output_type": "stream",
     "text": [
      ">chr19:47535882:-:T(-)\n",
      "\n",
      "TATCACTGGCTTGCTGTCAATAAATATGTGGGTAAATCTCTGTTCAGGGCTCTTAGCTCTGAAAGCTGTGAGACCCCTGATTTCCCACTCCACTCCTCTATATTTCTGTGTGTGTCTTTAATTCCTCTAGCGCCGCTGGGTTAGGGTCTCCCCGACCGAGCTGGTCTCGGCAGCGGAGGTTGCAGTAAGCCGAGACCATG\n",
      "\n",
      "104914\n"
     ]
    }
   ],
   "source": [
    "with open('dataset/raw/polyA_cs.fasta') as f:\n",
    "    lines = f.readlines()\n",
    "    for line in lines[:2]:\n",
    "        print(line)\n",
    "    print(len(lines))"
   ]
  },
  {
   "cell_type": "code",
   "execution_count": 4,
   "metadata": {},
   "outputs": [
    {
     "name": "stdout",
     "output_type": "stream",
     "text": [
      "Requirement already up-to-date: scikit-learn in /opt/conda/lib/python3.6/site-packages (0.22.1)\n",
      "Requirement already satisfied, skipping upgrade: numpy>=1.11.0 in /opt/conda/lib/python3.6/site-packages (from scikit-learn) (1.15.2)\n",
      "Requirement already satisfied, skipping upgrade: joblib>=0.11 in /opt/conda/lib/python3.6/site-packages (from scikit-learn) (0.14.1)\n",
      "Requirement already satisfied, skipping upgrade: scipy>=0.17.0 in /opt/conda/lib/python3.6/site-packages (from scikit-learn) (1.1.0)\n",
      "Package              Version    \n",
      "-------------------- -----------\n",
      "absl-py              0.5.0      \n",
      "alembic              0.9.9      \n",
      "appdirs              1.4.3      \n",
      "asn1crypto           0.24.0     \n",
      "astor                0.7.1      \n",
      "async-generator      1.10       \n",
      "atari-py             0.1.1      \n",
      "atomicwrites         1.2.1      \n",
      "attrs                18.2.0     \n",
      "Automat              0.7.0      \n",
      "backcall             0.1.0      \n",
      "beautifulsoup4       4.6.3      \n",
      "bleach               2.1.4      \n",
      "bokeh                0.12.16    \n",
      "boto                 2.49.0     \n",
      "boto3                1.9.24     \n",
      "botocore             1.12.24    \n",
      "bs4                  0.0.1      \n",
      "bz2file              0.98       \n",
      "certifi              2018.8.24  \n",
      "cffi                 1.11.5     \n",
      "chardet              3.0.4      \n",
      "cloudpickle          0.5.6      \n",
      "conda                4.5.11     \n",
      "constantly           15.1.0     \n",
      "cryptography         2.3.1      \n",
      "cryptography-vectors 2.3.1      \n",
      "cycler               0.10.0     \n",
      "Cython               0.28.5     \n",
      "dask                 0.19.4     \n",
      "decorator            4.3.0      \n",
      "dill                 0.2.8.2    \n",
      "docutils             0.14       \n",
      "entrypoints          0.2.3      \n",
      "fastcache            1.0.2      \n",
      "future               0.16.0     \n",
      "gast                 0.2.0      \n",
      "gensim               3.1.0      \n",
      "gmpy2                2.0.8      \n",
      "graphviz             0.8.2      \n",
      "grpcio               1.12.1     \n",
      "gym                  0.9.7      \n",
      "h5py                 2.7.1      \n",
      "html5lib             1.0.1      \n",
      "hyperlink            17.3.1     \n",
      "idna                 2.7        \n",
      "imageio              2.3.0      \n",
      "imgaug               0.2.9      \n",
      "incremental          17.5.0     \n",
      "ipykernel            4.9.0      \n",
      "ipython              6.5.0      \n",
      "ipython-genutils     0.2.0      \n",
      "ipywidgets           7.2.1      \n",
      "jedi                 0.12.1     \n",
      "jieba                0.39       \n",
      "Jinja2               2.10       \n",
      "jmespath             0.9.3      \n",
      "joblib               0.14.1     \n",
      "jsonschema           2.6.0      \n",
      "jupyter-client       5.2.3      \n",
      "jupyter-core         4.4.0      \n",
      "jupyter-tensorboard  0.1.7      \n",
      "jupyterhub           0.9.2      \n",
      "jupyterlab           0.34.7     \n",
      "jupyterlab-launcher  0.13.1     \n",
      "Keras                2.2.4      \n",
      "Keras-Applications   1.0.7      \n",
      "Keras-Preprocessing  1.0.9      \n",
      "kiwisolver           1.0.1      \n",
      "llvmlite             0.23.0     \n",
      "lxml                 4.2.1      \n",
      "Mako                 1.0.7      \n",
      "Markdown             2.6.11     \n",
      "MarkupSafe           1.0        \n",
      "matplotlib           2.2.3      \n",
      "mistune              0.8.3      \n",
      "more-itertools       4.3.0      \n",
      "mpmath               1.0.0      \n",
      "nbconvert            5.3.1      \n",
      "nbformat             4.4.0      \n",
      "nbresuse             0.3.0      \n",
      "networkx             2.2        \n",
      "nltk                 3.2.5      \n",
      "notebook             5.6.0      \n",
      "numba                0.38.1     \n",
      "numexpr              2.6.6      \n",
      "numpy                1.15.2     \n",
      "olefile              0.46       \n",
      "opencv-python        4.1.0.25   \n",
      "packaging            18.0       \n",
      "pamela               0.3.0      \n",
      "pandas               0.23.4     \n",
      "pandocfilters        1.4.2      \n",
      "parso                0.3.1      \n",
      "patsy                0.5.0      \n",
      "pexpect              4.6.0      \n",
      "pickleshare          0.7.4      \n",
      "Pillow               5.3.0      \n",
      "pip                  18.0       \n",
      "pluggy               0.7.1      \n",
      "progressbar2         3.38.0     \n",
      "prometheus-client    0.3.0      \n",
      "prompt-toolkit       1.0.15     \n",
      "protobuf             3.6.1      \n",
      "psutil               5.4.7      \n",
      "ptyprocess           0.6.0      \n",
      "py                   1.7.0      \n",
      "pyasn1               0.4.4      \n",
      "pyasn1-modules       0.2.1      \n",
      "pycosat              0.6.3      \n",
      "pycparser            2.18       \n",
      "pycurl               7.43.0.2   \n",
      "pyglet               1.3.2      \n",
      "Pygments             2.2.0      \n",
      "PyHamcrest           1.9.0      \n",
      "pyOpenSSL            18.0.0     \n",
      "pyparsing            2.2.2      \n",
      "PySocks              1.6.8      \n",
      "pytest               3.8.2      \n",
      "python-dateutil      2.7.3      \n",
      "python-editor        1.0.3      \n",
      "python-oauth2        1.0.1      \n",
      "python-utils         2.3.0      \n",
      "pytz                 2018.5     \n",
      "PyWavelets           1.0.1      \n",
      "PyYAML               3.13       \n",
      "pyzmq                17.1.2     \n",
      "requests             2.19.1     \n",
      "ruamel-yaml          0.15.63    \n",
      "s3transfer           0.1.13     \n",
      "scikit-image         0.14.1     \n",
      "scikit-learn         0.22.1     \n",
      "scipy                1.1.0      \n",
      "seaborn              0.9.0      \n",
      "Send2Trash           1.5.0      \n",
      "service-identity     17.0.0     \n",
      "setuptools           40.2.0     \n",
      "Shapely              1.6.4.post2\n",
      "simplegeneric        0.8.1      \n",
      "six                  1.11.0     \n",
      "smart-open           1.7.1      \n",
      "SQLAlchemy           1.2.12     \n",
      "statsmodels          0.9.0      \n",
      "sympy                1.1.1      \n",
      "tensorboard          1.10.0     \n",
      "tensorflow           1.10.0     \n",
      "tensorforce          0.4.3      \n",
      "tensorlayer          1.10.1     \n",
      "termcolor            1.1.0      \n",
      "terminado            0.8.1      \n",
      "testpath             0.3.1      \n",
      "toolz                0.9.0      \n",
      "tornado              5.1        \n",
      "tqdm                 4.27.0     \n",
      "traitlets            4.3.2      \n",
      "Twisted              18.7.0     \n",
      "urllib3              1.23       \n",
      "vincent              0.4.4      \n",
      "wcwidth              0.1.7      \n",
      "webencodings         0.5.1      \n",
      "Werkzeug             0.14.1     \n",
      "wheel                0.31.1     \n",
      "widgetsnbextension   3.2.1      \n",
      "wrapt                1.10.11    \n",
      "xlrd                 1.1.0      \n",
      "zope.interface       4.5.0      \n"
     ]
    }
   ],
   "source": [
    "!pip install --upgrade scikit-learn\n",
    "!pip list"
   ]
  },
  {
   "cell_type": "code",
   "execution_count": 5,
   "metadata": {},
   "outputs": [
    {
     "name": "stderr",
     "output_type": "stream",
     "text": [
      "/opt/conda/lib/python3.6/site-packages/h5py/__init__.py:36: FutureWarning: Conversion of the second argument of issubdtype from `float` to `np.floating` is deprecated. In future, it will be treated as `np.float64 == np.dtype(float).type`.\n",
      "  from ._conv import register_converters as _register_converters\n",
      "Using TensorFlow backend.\n"
     ]
    }
   ],
   "source": [
    "import sys\n",
    "import numpy as np\n",
    "import random\n",
    "import argparse\n",
    "from textwrap import dedent\n",
    "from time import strftime\n",
    "from itertools import product\n",
    "from keras.models import Sequential, load_model\n",
    "from keras.layers import Dense, LSTM, Embedding, Bidirectional, Flatten, Dropout, GRU\n",
    "from keras import optimizers\n",
    "from sklearn.model_selection import KFold\n",
    "from keras.callbacks import EarlyStopping, ModelCheckpoint\n",
    "from sklearn.metrics import classification_report, confusion_matrix\n",
    "import sklearn"
   ]
  },
  {
   "cell_type": "code",
   "execution_count": 3,
   "metadata": {},
   "outputs": [],
   "source": [
    "# One hot encoding for bases\n",
    "BASES = {'A': 0,  # 0001\n",
    "         'C': 1,  # 0010\n",
    "         'G': 2,  # 0100\n",
    "         'T': 3,  # 1000\n",
    "         'a': 0,\n",
    "         'c': 1,\n",
    "         'g': 2,\n",
    "         't': 3}\n",
    "VERSION = 'v0.0.1'\n",
    "\n",
    "\n",
    "def one_hot_encoding(seq, k_list, kmer_encoding):\n",
    "    encoded_list = np.zeros(len(seq) * len(k_list) - sum(k_list) + len(k_list))\n",
    "    seq = seq.upper()\n",
    "    for k_i in range(len(k_list)):\n",
    "        for i in range(len(seq) - k_list[k_i] + 1):\n",
    "            kmer = seq[i: i + k_list[k_i]]\n",
    "            encoded_list[i + len(seq) * k_i - sum(k_list[:k_i]) + k_i] = kmer_encoding[kmer]\n",
    "    return encoded_list\n",
    "\n",
    "\n",
    "def fasta_to_vectors(in_fasta, k_list):\n",
    "    with open(in_fasta) as f:\n",
    "        header_seq = f.readlines()\n",
    "\n",
    "    seq = [header_seq[i * 2 + 1].strip() for i in range(int(len(header_seq)/2))]\n",
    "\n",
    "    # Generate all unique kmers and their one hot encoding\n",
    "    unique_kmers = sum(pow(4, k_list))\n",
    "    all_kmers = []\n",
    "    for k in k_list:\n",
    "        all_kmers.extend(list(product(['A', 'T', 'C', 'G'], repeat=k)))\n",
    "    all_kmers = [''.join(x) for x in all_kmers]\n",
    "    kmer_encoding = dict(zip(all_kmers, range(unique_kmers)))\n",
    "\n",
    "    seq_vector = [one_hot_encoding(x, k_list, kmer_encoding) for x in seq]\n",
    "    return seq_vector\n",
    "\n",
    "\n",
    "def create_model(l, k, weights=''):\n",
    "    model = Sequential()\n",
    "    length = l * len(k) - sum(k) + len(k)\n",
    "    model.add(Embedding(sum(pow(4, k)), 128, input_length=length))\n",
    "    model.add(Flatten())\n",
    "\n",
    "    model.add(Dense(512, activation='relu'))\n",
    "    model.add(Dense(64, activation='relu'))\n",
    "    model.add(Dense(32, activation='relu'))\n",
    "    model.add(Dense(3, activation='softmax'))\n",
    "\n",
    "    adam = optimizers.Adam(lr=0.001)\n",
    "\n",
    "    if weights:\n",
    "        model.load_weights(weights)\n",
    "        print(\"Created model and loaded weights from file: \", weights)\n",
    "    else:\n",
    "        print(model.summary())\n",
    "        print(\"adam: 0.001\", )\n",
    "    model.compile(loss='categorical_crossentropy',\n",
    "                  optimizer=adam,\n",
    "                  metrics=['accuracy'])\n",
    "\n",
    "    return model\n",
    "\n",
    "\n",
    "# def main():\n",
    "#     parser = argparse.ArgumentParser(\n",
    "#         description=dedent('''\n",
    "#         Terminitor training\n",
    "#         -----------------------------------------------------------\n",
    "#         Given three fasta files with different labels: poly(A) CS, \n",
    "#         non-poly(A) CS, and non-CS, train the model\n",
    "#         '''),\n",
    "#         formatter_class=argparse.RawDescriptionHelpFormatter)\n",
    "\n",
    "#     parser.add_argument('-v', '--version', action='version', version='Terminitor ' + VERSION)\n",
    "#     parser.add_argument('-polya', help=\"Poly(A) CS, fasta file\", required=True)\n",
    "#     parser.add_argument('-cs', help=\"Non-poly(A) CS, fasta file\", required=True)\n",
    "#     parser.add_argument('-non', help=\"Non-CS, fasta file\", required=True)\n",
    "#     parser.add_argument('-model', help=\"File name of trained model\", required=True)\n",
    "#     parser.add_argument('-l', help=\"Length of input sequences\", required=True, type=int)\n",
    "\n",
    "#     sys.stdout.write(strftime(\"%Y-%m-%d %H:%M:%S\") + \": Start reading fasta\\n\")\n",
    "#     sys.stdout.flush()\n",
    "\n",
    "#     args = parser.parse_args()\n",
    "\n",
    "lab1_fasta = '../dataset/raw/polyA_cs.fasta' # args.polya\n",
    "lab2_fasta = '../dataset/raw/non-polyA_cs.fasta' # args.cs\n",
    "lab3_fasta = '../dataset/raw/non-cs.fasta'\n",
    "# weight_file = args.model\n",
    "l = 200\n",
    "\n",
    "k = np.array([4, 6, 8, 10])\n",
    "\n",
    "seq_vector_lab1 = np.array(fasta_to_vectors(lab1_fasta, k))\n",
    "seq_vector_lab2 = np.array(fasta_to_vectors(lab2_fasta, k))\n",
    "seq_vector_lab3 = np.array(fasta_to_vectors(lab3_fasta, k))\n",
    "lab_vector_lab1 = np.tile([1, 0, 0], (len(seq_vector_lab1), 1))\n",
    "lab_vector_lab2 = np.tile([0, 1, 0], (len(seq_vector_lab2), 1))\n",
    "lab_vector_lab3 = np.tile([0, 0, 1], (len(seq_vector_lab3), 1))"
   ]
  },
  {
   "cell_type": "code",
   "execution_count": 4,
   "metadata": {},
   "outputs": [],
   "source": [
    "# Build the whole model\n",
    "random.seed(123)\n",
    "\n",
    "size1 = len(seq_vector_lab1)\n",
    "size2 = len(seq_vector_lab2)\n",
    "size3 = len(seq_vector_lab3)\n",
    "\n",
    "if size1 != size2 or size1 != size3:\n",
    "    train_i1 = random.sample(range(size1), int(0.7 * size1))\n",
    "    train_i2 = random.sample(range(size2), int(0.7 * size2))\n",
    "    train_i3 = random.sample(range(size3), int(0.7 * size3))\n",
    "\n",
    "else:\n",
    "    train_i1 = random.sample(range(size1), int(0.7 * size1))\n",
    "    train_i2 = train_i1\n",
    "    train_i3 = train_i1\n",
    "\n",
    "test_val1 = [i for i in range(size1) if i not in train_i1]\n",
    "val_i1 = random.sample(test_val1, int(0.2 * size1))\n",
    "\n",
    "test_val2 = [i for i in range(size2) if i not in train_i2]\n",
    "val_i2 = random.sample(test_val2, int(0.2 * size2))\n",
    "\n",
    "test_val3 = [i for i in range(size3) if i not in train_i3]\n",
    "val_i3 = random.sample(test_val3, int(0.2 * size3))\n",
    "\n",
    "x_train = np.concatenate((seq_vector_lab1[train_i1], seq_vector_lab2[train_i2], seq_vector_lab3[train_i3]))\n",
    "y_train = np.concatenate((lab_vector_lab1[train_i1], lab_vector_lab2[train_i2], lab_vector_lab3[train_i3]))\n",
    "x_val = np.concatenate((seq_vector_lab1[val_i1], seq_vector_lab2[val_i2], seq_vector_lab3[val_i3]))\n",
    "y_val = np.concatenate((lab_vector_lab1[val_i1], lab_vector_lab2[val_i2], lab_vector_lab3[val_i3]))\n",
    "\n",
    "#     sys.stdout.write(strftime(\"%Y-%m-%d %H:%M:%S\") + \": Start training\\n\")\n",
    "#     sys.stdout.flush()"
   ]
  },
  {
   "cell_type": "code",
   "execution_count": 5,
   "metadata": {},
   "outputs": [
    {
     "name": "stdout",
     "output_type": "stream",
     "text": [
      "_________________________________________________________________\n",
      "Layer (type)                 Output Shape              Param #   \n",
      "=================================================================\n",
      "embedding_1 (Embedding)      (None, 776, 128)          143163392 \n",
      "_________________________________________________________________\n",
      "flatten_1 (Flatten)          (None, 99328)             0         \n",
      "_________________________________________________________________\n",
      "dense_1 (Dense)              (None, 512)               50856448  \n",
      "_________________________________________________________________\n",
      "dense_2 (Dense)              (None, 64)                32832     \n",
      "_________________________________________________________________\n",
      "dense_3 (Dense)              (None, 32)                2080      \n",
      "_________________________________________________________________\n",
      "dense_4 (Dense)              (None, 3)                 99        \n",
      "=================================================================\n",
      "Total params: 194,054,851\n",
      "Trainable params: 194,054,851\n",
      "Non-trainable params: 0\n",
      "_________________________________________________________________\n",
      "None\n",
      "adam: 0.001\n"
     ]
    },
    {
     "name": "stderr",
     "output_type": "stream",
     "text": [
      "/opt/conda/lib/python3.6/site-packages/tensorflow/python/ops/gradients_impl.py:105: UserWarning: Converting sparse IndexedSlices to a dense Tensor with 143163392 elements. This may consume a large amount of memory.\n",
      "  num_elements)\n"
     ]
    },
    {
     "name": "stdout",
     "output_type": "stream",
     "text": [
      "Train on 92757 samples, validate on 26502 samples\n",
      "Epoch 1/100\n",
      "92757/92757 [==============================] - 147s 2ms/step - loss: 0.5285 - acc: 0.7781 - val_loss: 0.4664 - val_acc: 0.8061\n",
      "Epoch 2/100\n",
      "92757/92757 [==============================] - 135s 1ms/step - loss: 0.0214 - acc: 0.9941 - val_loss: 0.7624 - val_acc: 0.7731\n",
      "Epoch 3/100\n",
      "92757/92757 [==============================] - 135s 1ms/step - loss: 0.0075 - acc: 0.9989 - val_loss: 0.8212 - val_acc: 0.7567\n",
      "Epoch 4/100\n",
      "92757/92757 [==============================] - 135s 1ms/step - loss: 0.0087 - acc: 0.9984 - val_loss: 1.4185 - val_acc: 0.7320\n",
      "Epoch 5/100\n",
      "92757/92757 [==============================] - 134s 1ms/step - loss: 0.0097 - acc: 0.9984 - val_loss: 1.3417 - val_acc: 0.7473\n",
      "Epoch 6/100\n",
      "92757/92757 [==============================] - 135s 1ms/step - loss: 0.0073 - acc: 0.9990 - val_loss: 2.0066 - val_acc: 0.7342\n",
      "Epoch 7/100\n",
      "92757/92757 [==============================] - 135s 1ms/step - loss: 0.0089 - acc: 0.9988 - val_loss: 1.1889 - val_acc: 0.7556\n",
      "Epoch 8/100\n",
      "92757/92757 [==============================] - 135s 1ms/step - loss: 0.0077 - acc: 0.9992 - val_loss: 1.7469 - val_acc: 0.7625\n",
      "Epoch 9/100\n",
      "92757/92757 [==============================] - 135s 1ms/step - loss: 0.0076 - acc: 0.9993 - val_loss: 1.5205 - val_acc: 0.7595\n",
      "Epoch 10/100\n",
      "92757/92757 [==============================] - 135s 1ms/step - loss: 0.0094 - acc: 0.9990 - val_loss: 1.4847 - val_acc: 0.7515\n",
      "Epoch 11/100\n",
      "92757/92757 [==============================] - 135s 1ms/step - loss: 0.0091 - acc: 0.9990 - val_loss: 1.9798 - val_acc: 0.7535\n"
     ]
    },
    {
     "data": {
      "text/plain": [
       "<keras.callbacks.History at 0x7fe6300fed68>"
      ]
     },
     "execution_count": 5,
     "metadata": {},
     "output_type": "execute_result"
    }
   ],
   "source": [
    "weight_file = ''\n",
    "model = create_model(l, k)\n",
    "early_stop = EarlyStopping(monitor='val_loss', patience=10)\n",
    "filepath = weight_file + \"terminator.hdf5\"\n",
    "checkpoint = ModelCheckpoint(filepath, monitor='val_loss', verbose=0, save_best_only=True)\n",
    "\n",
    "model.fit(x_train, y_train, batch_size=64, verbose=1, epochs=100,\n",
    "          validation_data=(x_val, y_val),\n",
    "          callbacks=[checkpoint, early_stop])\n",
    "    \n",
    "#     sys.stdout.write(strftime(\"%Y-%m-%d %H:%M:%S\") + \": Finished!\\n\")"
   ]
  },
  {
   "cell_type": "code",
   "execution_count": 6,
   "metadata": {},
   "outputs": [],
   "source": [
    "# val_loss: 0.4679 - val_acc: 0.8073"
   ]
  },
  {
   "cell_type": "code",
   "execution_count": 5,
   "metadata": {},
   "outputs": [
    {
     "name": "stderr",
     "output_type": "stream",
     "text": [
      "/opt/conda/lib/python3.6/site-packages/tensorflow/python/ops/gradients_impl.py:105: UserWarning: Converting sparse IndexedSlices to a dense Tensor with 143163392 elements. This may consume a large amount of memory.\n",
      "  num_elements)\n"
     ]
    }
   ],
   "source": [
    "model = load_model('terminator-0.4679.hdf5')"
   ]
  },
  {
   "cell_type": "code",
   "execution_count": 15,
   "metadata": {},
   "outputs": [
    {
     "name": "stdout",
     "output_type": "stream",
     "text": [
      "_________________________________________________________________\n",
      "Layer (type)                 Output Shape              Param #   \n",
      "=================================================================\n",
      "embedding_1 (Embedding)      (None, 776, 128)          143163392 \n",
      "_________________________________________________________________\n",
      "flatten_1 (Flatten)          (None, 99328)             0         \n",
      "_________________________________________________________________\n",
      "dense_1 (Dense)              (None, 512)               50856448  \n",
      "_________________________________________________________________\n",
      "dense_2 (Dense)              (None, 64)                32832     \n",
      "_________________________________________________________________\n",
      "dense_3 (Dense)              (None, 32)                2080      \n",
      "_________________________________________________________________\n",
      "dense_4 (Dense)              (None, 3)                 99        \n",
      "=================================================================\n",
      "Total params: 194,054,851\n",
      "Trainable params: 194,054,851\n",
      "Non-trainable params: 0\n",
      "_________________________________________________________________\n"
     ]
    }
   ],
   "source": [
    "model.summary()"
   ]
  },
  {
   "cell_type": "code",
   "execution_count": 6,
   "metadata": {},
   "outputs": [
    {
     "data": {
      "text/plain": [
       "(26502, 3)"
      ]
     },
     "execution_count": 6,
     "metadata": {},
     "output_type": "execute_result"
    }
   ],
   "source": [
    "y_val.shape"
   ]
  },
  {
   "cell_type": "code",
   "execution_count": 7,
   "metadata": {},
   "outputs": [
    {
     "data": {
      "text/plain": [
       "(26502, 776)"
      ]
     },
     "execution_count": 7,
     "metadata": {},
     "output_type": "execute_result"
    }
   ],
   "source": [
    "x_val.shape"
   ]
  },
  {
   "cell_type": "code",
   "execution_count": 8,
   "metadata": {},
   "outputs": [
    {
     "name": "stdout",
     "output_type": "stream",
     "text": [
      "              precision    recall  f1-score   support\n",
      "\n",
      "           0       0.91      0.96      0.94     10491\n",
      "           1       0.78      0.31      0.44      5519\n",
      "           2       0.72      0.92      0.81     10492\n",
      "\n",
      "    accuracy                           0.81     26502\n",
      "   macro avg       0.81      0.73      0.73     26502\n",
      "weighted avg       0.81      0.81      0.78     26502\n",
      "\n"
     ]
    }
   ],
   "source": [
    "y_pred = model.predict(x_val)\n",
    "print(classification_report(np.argmax(y_val, axis=-1), np.argmax(y_pred, axis=-1), target_names=[str(i) for i in range(3)]))"
   ]
  },
  {
   "cell_type": "code",
   "execution_count": 9,
   "metadata": {},
   "outputs": [
    {
     "name": "stdout",
     "output_type": "stream",
     "text": [
      "[[10061    60   370]\n",
      " [  488  1712  3319]\n",
      " [  449   420  9623]]\n"
     ]
    }
   ],
   "source": [
    "print(confusion_matrix(np.argmax(y_val, axis=-1), np.argmax(y_pred, axis=-1)))"
   ]
  },
  {
   "cell_type": "code",
   "execution_count": 10,
   "metadata": {},
   "outputs": [],
   "source": [
    "y_pred_label = np.argmax(y_pred, axis=-1)\n",
    "y_val_label = np.argmax(y_val, axis=-1)"
   ]
  },
  {
   "cell_type": "code",
   "execution_count": 11,
   "metadata": {},
   "outputs": [],
   "source": [
    "y_pred_label[y_pred_label > 0] = 1\n",
    "y_val_label[y_val_label > 0] = 1"
   ]
  },
  {
   "cell_type": "code",
   "execution_count": 12,
   "metadata": {},
   "outputs": [],
   "source": [
    "y_pred_label = 1 - y_pred_label\n",
    "y_val_label = 1- y_val_label"
   ]
  },
  {
   "cell_type": "code",
   "execution_count": 13,
   "metadata": {},
   "outputs": [
    {
     "name": "stdout",
     "output_type": "stream",
     "text": [
      "              precision    recall  f1-score   support\n",
      "\n",
      "           0       0.97      0.94      0.96     16011\n",
      "           1       0.91      0.96      0.94     10491\n",
      "\n",
      "    accuracy                           0.95     26502\n",
      "   macro avg       0.94      0.95      0.95     26502\n",
      "weighted avg       0.95      0.95      0.95     26502\n",
      "\n"
     ]
    }
   ],
   "source": [
    "print(classification_report(y_val_label, y_pred_label))"
   ]
  },
  {
   "cell_type": "code",
   "execution_count": 14,
   "metadata": {},
   "outputs": [
    {
     "data": {
      "text/plain": [
       "(26502,)"
      ]
     },
     "execution_count": 14,
     "metadata": {},
     "output_type": "execute_result"
    }
   ],
   "source": [
    "y_pred_label.shape, \n",
    "y_val_label.shape"
   ]
  },
  {
   "cell_type": "code",
   "execution_count": 2,
   "metadata": {},
   "outputs": [],
   "source": [
    "def sensitivy(y_pred, y_true):\n",
    "    CM = confusion_matrix(y_true, y_pred)\n",
    "\n",
    "    TN = CM[0][0]\n",
    "    FN = CM[1][0]\n",
    "    TP = CM[1][1]\n",
    "    FP = CM[0][1]\n",
    "    return TP / (FN + TP)\n",
    "def acc(y_pred, y_true):\n",
    "    CM = confusion_matrix(y_true, y_pred)\n",
    "\n",
    "    TN = CM[0][0]\n",
    "    FN = CM[1][0]\n",
    "    TP = CM[1][1]\n",
    "    FP = CM[0][1]\n",
    "    \n",
    "    return sklearn.metrics.accuracy_score(y_true, y_pred), (TP + TN) / (TP + TN + FN + FP)\n",
    "def specificity(y_pred, y_true):\n",
    "    CM = confusion_matrix(y_true, y_pred)\n",
    "\n",
    "    TN = CM[0][0]\n",
    "    FN = CM[1][0]\n",
    "    TP = CM[1][1]\n",
    "    FP = CM[0][1]\n",
    "    return TN/(TN+FP)"
   ]
  },
  {
   "cell_type": "code",
   "execution_count": 27,
   "metadata": {},
   "outputs": [
    {
     "data": {
      "text/plain": [
       "(0.9484189872462455, 0.9484189872462455)"
      ]
     },
     "execution_count": 27,
     "metadata": {},
     "output_type": "execute_result"
    }
   ],
   "source": [
    "acc(y_pred_label, y_val_label)"
   ]
  },
  {
   "cell_type": "code",
   "execution_count": 23,
   "metadata": {},
   "outputs": [
    {
     "data": {
      "text/plain": [
       "0.9590124868935278"
      ]
     },
     "execution_count": 23,
     "metadata": {},
     "output_type": "execute_result"
    }
   ],
   "source": [
    "sensitivy(y_pred_label, y_val_label)"
   ]
  },
  {
   "cell_type": "code",
   "execution_count": 3,
   "metadata": {},
   "outputs": [
    {
     "ename": "NameError",
     "evalue": "name 'y_pred_label' is not defined",
     "output_type": "error",
     "traceback": [
      "\u001b[0;31m---------------------------------------------------------------------------\u001b[0m",
      "\u001b[0;31mNameError\u001b[0m                                 Traceback (most recent call last)",
      "\u001b[0;32m<ipython-input-3-f5bf50d8cd57>\u001b[0m in \u001b[0;36m<module>\u001b[0;34m()\u001b[0m\n\u001b[0;32m----> 1\u001b[0;31m \u001b[0mspecificity\u001b[0m\u001b[0;34m(\u001b[0m\u001b[0my_pred_label\u001b[0m\u001b[0;34m,\u001b[0m \u001b[0my_val_label\u001b[0m\u001b[0;34m)\u001b[0m\u001b[0;34m\u001b[0m\u001b[0m\n\u001b[0m",
      "\u001b[0;31mNameError\u001b[0m: name 'y_pred_label' is not defined"
     ]
    }
   ],
   "source": [
    "specificity(y_pred_label, y_val_label)"
   ]
  },
  {
   "cell_type": "code",
   "execution_count": null,
   "metadata": {},
   "outputs": [],
   "source": []
  }
 ],
 "metadata": {
  "kernelspec": {
   "display_name": "Python 3",
   "language": "python",
   "name": "python3"
  },
  "language_info": {
   "codemirror_mode": {
    "name": "ipython",
    "version": 3
   },
   "file_extension": ".py",
   "mimetype": "text/x-python",
   "name": "python",
   "nbconvert_exporter": "python",
   "pygments_lexer": "ipython3",
   "version": "3.6.6"
  }
 },
 "nbformat": 4,
 "nbformat_minor": 2
}
