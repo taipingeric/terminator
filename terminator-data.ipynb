{
 "cells": [
  {
   "cell_type": "code",
   "execution_count": 1,
   "metadata": {},
   "outputs": [
    {
     "name": "stdout",
     "output_type": "stream",
     "text": [
      ">chr19:47535882:-:T(-)\n",
      "\n",
      "TATCACTGGCTTGCTGTCAATAAATATGTGGGTAAATCTCTGTTCAGGGCTCTTAGCTCTGAAAGCTGTGAGACCCCTGATTTCCCACTCCACTCCTCTATATTTCTGTGTGTGTCTTTAATTCCTCTAGCGCCGCTGGGTTAGGGTCTCCCCGACCGAGCTGGTCTCGGCAGCGGAGGTTGCAGTAAGCCGAGACCATG\n",
      "\n",
      "104914\n"
     ]
    }
   ],
   "source": [
    "with open('dataset/raw/polyA_cs.fasta') as f:\n",
    "    lines = f.readlines()\n",
    "    for line in lines[:2]:\n",
    "        print(line)\n",
    "    print(len(lines))"
   ]
  },
  {
   "cell_type": "code",
   "execution_count": 1,
   "metadata": {},
   "outputs": [
    {
     "name": "stderr",
     "output_type": "stream",
     "text": [
      "/opt/conda/lib/python3.6/site-packages/h5py/__init__.py:36: FutureWarning: Conversion of the second argument of issubdtype from `float` to `np.floating` is deprecated. In future, it will be treated as `np.float64 == np.dtype(float).type`.\n",
      "  from ._conv import register_converters as _register_converters\n",
      "Using TensorFlow backend.\n"
     ]
    }
   ],
   "source": [
    "import sys\n",
    "import numpy as np\n",
    "import random\n",
    "import argparse\n",
    "from textwrap import dedent\n",
    "from time import strftime\n",
    "from itertools import product\n",
    "from keras.models import Sequential, load_model\n",
    "from keras.layers import Dense, LSTM, Embedding, Bidirectional, Flatten, Dropout, GRU\n",
    "from keras import optimizers\n",
    "from sklearn.model_selection import KFold\n",
    "from keras.callbacks import EarlyStopping, ModelCheckpoint"
   ]
  },
  {
   "cell_type": "code",
   "execution_count": 13,
   "metadata": {},
   "outputs": [
    {
     "name": "stdout",
     "output_type": "stream",
     "text": [
      "1118464 [    256    4096   65536 1048576]\n",
      "776\n",
      "[70. 24. 98.]\n"
     ]
    }
   ],
   "source": [
    "# One hot encoding for bases\n",
    "BASES = {'A': 0,  # 0001\n",
    "         'C': 1,  # 0010\n",
    "         'G': 2,  # 0100\n",
    "         'T': 3,  # 1000\n",
    "         'a': 0,\n",
    "         'c': 1,\n",
    "         'g': 2,\n",
    "         't': 3}\n",
    "VERSION = 'v0.0.1'\n",
    "\n",
    "\n",
    "def one_hot_encoding(seq, k_list, kmer_encoding):\n",
    "    encoded_list = np.zeros(len(seq) * len(k_list) - sum(k_list) + len(k_list))\n",
    "    print(len(encoded_list))\n",
    "    seq = seq.upper()\n",
    "    for k_i in range(len(k_list)):\n",
    "        for i in range(len(seq) - k_list[k_i] + 1):\n",
    "            kmer = seq[i: i + k_list[k_i]]\n",
    "            encoded_list[i + len(seq) * k_i - sum(k_list[:k_i]) + k_i] = kmer_encoding[kmer]\n",
    "    print(encoded_list[:3])\n",
    "    return encoded_list\n",
    "\n",
    "\n",
    "def fasta_to_vectors(in_fasta, k_list):\n",
    "    with open(in_fasta) as f:\n",
    "        header_seq = f.readlines()[:2]\n",
    "\n",
    "    seq = [header_seq[i * 2 + 1].strip() for i in range(int(len(header_seq)/2))]\n",
    "\n",
    "    # Generate all unique kmers and their one hot encoding\n",
    "    unique_kmers = sum(pow(4, k_list))\n",
    "    print(unique_kmers, pow(4, k_list))\n",
    "    all_kmers = []\n",
    "    for k in k_list:\n",
    "        all_kmers.extend(list(product(['A', 'T', 'C', 'G'], repeat=k)))\n",
    "    all_kmers = [''.join(x) for x in all_kmers]\n",
    "#     print(all_kmers[:1000])\n",
    "    kmer_encoding = dict(zip(all_kmers, range(unique_kmers)))\n",
    "\n",
    "    seq_vector = [one_hot_encoding(x, k_list, kmer_encoding) for x in seq]\n",
    "    return seq_vector\n",
    "\n",
    "\n",
    "def create_model(l, k, weights=''):\n",
    "    model = Sequential()\n",
    "    length = l * len(k) - sum(k) + len(k)\n",
    "    model.add(Embedding(sum(pow(4, k)), 128, input_length=length))\n",
    "    model.add(Flatten())\n",
    "\n",
    "    model.add(Dense(512, activation='relu'))\n",
    "    model.add(Dense(64, activation='relu'))\n",
    "    model.add(Dense(32, activation='relu'))\n",
    "    model.add(Dense(3, activation='softmax'))\n",
    "\n",
    "    adam = optimizers.Adam(lr=0.001)\n",
    "\n",
    "    if weights:\n",
    "        model.load_weights(weights)\n",
    "        print(\"Created model and loaded weights from file: \", weights)\n",
    "    else:\n",
    "        print(model.summary())\n",
    "        print(\"adam: 0.001\", )\n",
    "    model.compile(loss='categorical_crossentropy',\n",
    "                  optimizer=adam,\n",
    "                  metrics=['accuracy'])\n",
    "\n",
    "    return model\n",
    "\n",
    "\n",
    "# def main():\n",
    "#     parser = argparse.ArgumentParser(\n",
    "#         description=dedent('''\n",
    "#         Terminitor training\n",
    "#         -----------------------------------------------------------\n",
    "#         Given three fasta files with different labels: poly(A) CS, \n",
    "#         non-poly(A) CS, and non-CS, train the model\n",
    "#         '''),\n",
    "#         formatter_class=argparse.RawDescriptionHelpFormatter)\n",
    "\n",
    "#     parser.add_argument('-v', '--version', action='version', version='Terminitor ' + VERSION)\n",
    "#     parser.add_argument('-polya', help=\"Poly(A) CS, fasta file\", required=True)\n",
    "#     parser.add_argument('-cs', help=\"Non-poly(A) CS, fasta file\", required=True)\n",
    "#     parser.add_argument('-non', help=\"Non-CS, fasta file\", required=True)\n",
    "#     parser.add_argument('-model', help=\"File name of trained model\", required=True)\n",
    "#     parser.add_argument('-l', help=\"Length of input sequences\", required=True, type=int)\n",
    "\n",
    "#     sys.stdout.write(strftime(\"%Y-%m-%d %H:%M:%S\") + \": Start reading fasta\\n\")\n",
    "#     sys.stdout.flush()\n",
    "\n",
    "#     args = parser.parse_args()\n",
    "\n",
    "lab1_fasta = 'dataset/raw/polyA_cs.fasta' # args.polya\n",
    "lab2_fasta = 'dataset/raw/non-polyA_cs.fasta' # args.cs\n",
    "lab3_fasta = 'dataset/raw/non-cs.fasta'\n",
    "# weight_file = args.model\n",
    "l = 200\n",
    "\n",
    "k = np.array([4, 6, 8, 10])\n",
    "\n",
    "seq_vector_lab1 = np.array(fasta_to_vectors(lab1_fasta, k))\n",
    "# seq_vector_lab2 = np.array(fasta_to_vectors(lab2_fasta, k))\n",
    "# seq_vector_lab3 = np.array(fasta_to_vectors(lab3_fasta, k))\n",
    "lab_vector_lab1 = np.tile([1, 0, 0], (len(seq_vector_lab1), 1))\n",
    "# lab_vector_lab2 = np.tile([0, 1, 0], (len(seq_vector_lab2), 1))\n",
    "# lab_vector_lab3 = np.tile([0, 0, 1], (len(seq_vector_lab3), 1))"
   ]
  },
  {
   "cell_type": "code",
   "execution_count": null,
   "metadata": {},
   "outputs": [],
   "source": []
  },
  {
   "cell_type": "code",
   "execution_count": 5,
   "metadata": {},
   "outputs": [
    {
     "data": {
      "text/plain": [
       "(1, 776)"
      ]
     },
     "execution_count": 5,
     "metadata": {},
     "output_type": "execute_result"
    }
   ],
   "source": [
    "seq_vector_lab1.shape"
   ]
  },
  {
   "cell_type": "code",
   "execution_count": 4,
   "metadata": {},
   "outputs": [],
   "source": [
    "# Build the whole model\n",
    "random.seed(123)\n",
    "\n",
    "size1 = len(seq_vector_lab1)\n",
    "size2 = len(seq_vector_lab2)\n",
    "size3 = len(seq_vector_lab3)\n",
    "\n",
    "if size1 != size2 or size1 != size3:\n",
    "    train_i1 = random.sample(range(size1), int(0.7 * size1))\n",
    "    train_i2 = random.sample(range(size2), int(0.7 * size2))\n",
    "    train_i3 = random.sample(range(size3), int(0.7 * size3))\n",
    "\n",
    "else:\n",
    "    train_i1 = random.sample(range(size1), int(0.7 * size1))\n",
    "    train_i2 = train_i1\n",
    "    train_i3 = train_i1\n",
    "\n",
    "test_val1 = [i for i in range(size1) if i not in train_i1]\n",
    "val_i1 = random.sample(test_val1, int(0.2 * size1))\n",
    "\n",
    "test_val2 = [i for i in range(size2) if i not in train_i2]\n",
    "val_i2 = random.sample(test_val2, int(0.2 * size2))\n",
    "\n",
    "test_val3 = [i for i in range(size3) if i not in train_i3]\n",
    "val_i3 = random.sample(test_val3, int(0.2 * size3))\n",
    "\n",
    "x_train = np.concatenate((seq_vector_lab1[train_i1], seq_vector_lab2[train_i2], seq_vector_lab3[train_i3]))\n",
    "y_train = np.concatenate((lab_vector_lab1[train_i1], lab_vector_lab2[train_i2], lab_vector_lab3[train_i3]))\n",
    "x_val = np.concatenate((seq_vector_lab1[val_i1], seq_vector_lab2[val_i2], seq_vector_lab3[val_i3]))\n",
    "y_val = np.concatenate((lab_vector_lab1[val_i1], lab_vector_lab2[val_i2], lab_vector_lab3[val_i3]))\n",
    "\n",
    "#     sys.stdout.write(strftime(\"%Y-%m-%d %H:%M:%S\") + \": Start training\\n\")\n",
    "#     sys.stdout.flush()"
   ]
  },
  {
   "cell_type": "code",
   "execution_count": null,
   "metadata": {},
   "outputs": [
    {
     "name": "stdout",
     "output_type": "stream",
     "text": [
      "_________________________________________________________________\n",
      "Layer (type)                 Output Shape              Param #   \n",
      "=================================================================\n",
      "embedding_1 (Embedding)      (None, 776, 128)          143163392 \n",
      "_________________________________________________________________\n",
      "flatten_1 (Flatten)          (None, 99328)             0         \n",
      "_________________________________________________________________\n",
      "dense_1 (Dense)              (None, 512)               50856448  \n",
      "_________________________________________________________________\n",
      "dense_2 (Dense)              (None, 64)                32832     \n",
      "_________________________________________________________________\n",
      "dense_3 (Dense)              (None, 32)                2080      \n",
      "_________________________________________________________________\n",
      "dense_4 (Dense)              (None, 3)                 99        \n",
      "=================================================================\n",
      "Total params: 194,054,851\n",
      "Trainable params: 194,054,851\n",
      "Non-trainable params: 0\n",
      "_________________________________________________________________\n",
      "None\n",
      "adam: 0.001\n"
     ]
    },
    {
     "name": "stderr",
     "output_type": "stream",
     "text": [
      "/opt/conda/lib/python3.6/site-packages/tensorflow/python/ops/gradients_impl.py:105: UserWarning: Converting sparse IndexedSlices to a dense Tensor with 143163392 elements. This may consume a large amount of memory.\n",
      "  num_elements)\n"
     ]
    },
    {
     "name": "stdout",
     "output_type": "stream",
     "text": [
      "Train on 92757 samples, validate on 26502 samples\n",
      "Epoch 1/100\n",
      "92757/92757 [==============================] - 147s 2ms/step - loss: 0.5284 - acc: 0.7771 - val_loss: 0.4679 - val_acc: 0.8073\n",
      "Epoch 2/100\n",
      "92757/92757 [==============================] - 134s 1ms/step - loss: 0.0179 - acc: 0.9953 - val_loss: 0.7824 - val_acc: 0.7756\n",
      "Epoch 3/100\n",
      "66816/92757 [====================>.........] - ETA: 37s - loss: 0.0076 - acc: 0.9991"
     ]
    }
   ],
   "source": [
    "weight_file = ''\n",
    "model = create_model(l, k)\n",
    "early_stop = EarlyStopping(monitor='val_loss', patience=10)\n",
    "filepath = weight_file + \"terminator.hdf5\"\n",
    "checkpoint = ModelCheckpoint(filepath, monitor='val_loss', verbose=0, save_best_only=True)\n",
    "\n",
    "model.fit(x_train, y_train, batch_size=64, verbose=1, epochs=100,\n",
    "          validation_data=(x_val, y_val),\n",
    "          callbacks=[checkpoint, early_stop])\n",
    "    \n",
    "#     sys.stdout.write(strftime(\"%Y-%m-%d %H:%M:%S\") + \": Finished!\\n\")"
   ]
  },
  {
   "cell_type": "code",
   "execution_count": null,
   "metadata": {},
   "outputs": [],
   "source": []
  }
 ],
 "metadata": {
  "kernelspec": {
   "display_name": "Python 3",
   "language": "python",
   "name": "python3"
  },
  "language_info": {
   "codemirror_mode": {
    "name": "ipython",
    "version": 3
   },
   "file_extension": ".py",
   "mimetype": "text/x-python",
   "name": "python",
   "nbconvert_exporter": "python",
   "pygments_lexer": "ipython3",
   "version": "3.6.6"
  }
 },
 "nbformat": 4,
 "nbformat_minor": 2
}
